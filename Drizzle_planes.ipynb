{
 "cells": [
  {
   "cell_type": "markdown",
   "metadata": {},
   "source": [
    "### Aviation Data"
   ]
  },
  {
   "cell_type": "markdown",
   "metadata": {},
   "source": [
    "Over the past few years , we as Drizzle plane company have been having a drop in profits and raise in losses especially due to the number of old planes within the company.\n"
   ]
  },
  {
   "cell_type": "markdown",
   "metadata": {},
   "source": [
    "After careful consideration , I as the data analyst of the firm had to come up with a proposal especially affter careful consideration through the National Transportation Safety Board ,I was granted access to data containing the number of accidents new and technologized planes have undergone and in which parts of the country are affected by this.\n"
   ]
  },
  {
   "cell_type": "markdown",
   "metadata": {},
   "source": [
    "Some of the reasons why this is good informattion is because most of the decision comes from careful analysation of the data provided. We may come up with different plane types to consider for purchase especially if we are planning to change the rate at which the company impacts the society.\n"
   ]
  },
  {
   "cell_type": "markdown",
   "metadata": {},
   "source": [
    "Inorder for us to come up with a clear cosideration and proposal for the stakeholders ,we have to go through and visualize through the data provided. For this to start, we have to first load the data from the main source and clean it thourougly then finally ccome up with different visualizations that will aid in the passing of the proposal."
   ]
  },
  {
   "cell_type": "code",
   "execution_count": null,
   "metadata": {},
   "outputs": [],
   "source": []
  }
 ],
 "metadata": {
  "kernelspec": {
   "display_name": "Python (learn-env)",
   "language": "python",
   "name": "learn-env"
  },
  "language_info": {
   "codemirror_mode": {
    "name": "ipython",
    "version": 3
   },
   "file_extension": ".py",
   "mimetype": "text/x-python",
   "name": "python",
   "nbconvert_exporter": "python",
   "pygments_lexer": "ipython3",
   "version": "3.8.5"
  }
 },
 "nbformat": 4,
 "nbformat_minor": 4
}
